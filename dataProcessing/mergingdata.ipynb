{
 "cells": [
  {
   "cell_type": "code",
   "execution_count": 1,
   "id": "b1d97e2e",
   "metadata": {},
   "outputs": [],
   "source": [
    "import pandas as pd\n",
    "\n",
    "# Assuming you've already loaded your CSV files into data and data2 DataFrames\n",
    "# For example:\n",
    "\n",
    "data = pd.read_csv('/Users/derek/Documents/DA401Project/data.csv')\n",
    "data2 = pd.read_csv('/Users/derek/Documents/DA401Project/data2.csv')\n",
    "\n",
    "# Perform the left join\n",
    "merged_data = pd.merge(data, data2, on=['Club', 'Competition', 'Season'], how='left')\n",
    "\n",
    "# Filter rows where Competition is 'Premier League'\n",
    "merged_data = merged_data[merged_data['Competition'] == 'Premier League']\n",
    "\n",
    "#Save this to a new CSV\n",
    "merged_data.to_csv('/Users/derek/Documents/DA401Project/data3.csv', index=False)\n"
   ]
  },
  {
   "cell_type": "code",
   "execution_count": null,
   "id": "c5c8eeb0",
   "metadata": {},
   "outputs": [],
   "source": []
  }
 ],
 "metadata": {
  "kernelspec": {
   "display_name": "Python 3 (ipykernel)",
   "language": "python",
   "name": "python3"
  },
  "language_info": {
   "codemirror_mode": {
    "name": "ipython",
    "version": 3
   },
   "file_extension": ".py",
   "mimetype": "text/x-python",
   "name": "python",
   "nbconvert_exporter": "python",
   "pygments_lexer": "ipython3",
   "version": "3.9.13"
  }
 },
 "nbformat": 4,
 "nbformat_minor": 5
}
